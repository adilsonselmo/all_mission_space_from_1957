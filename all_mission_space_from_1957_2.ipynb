{
 "cells": [
  {
   "cell_type": "markdown",
   "metadata": {},
   "source": [
    "# <font color='pink' size='6'>All Mission Space from 1957</font>"
   ]
  },
  {
   "cell_type": "markdown",
   "metadata": {},
   "source": [
    "### Saaalve galera mbora aprender um pouco mais com os dados que temos a nossa disposição no Kaggle, eu como sendo um fascinado pela astrofísica decidi pegar os dados de todas as missões para o espaço desde 1957.\n",
    "### Mbora então ver e aprender um pouco mais sobre como fazer análise exploratória dos dados com Python huhuh :) e já coletar insights\n",
    "### Link do dataset: https://www.kaggle.com/agirlcoding/all-space-missions-from-1957 e simboraaa."
   ]
  },
  {
   "cell_type": "markdown",
   "metadata": {},
   "source": [
    "# <font color='pink'>Coleta dos Dados</font>"
   ]
  },
  {
   "cell_type": "markdown",
   "metadata": {},
   "source": [
    "#### Os dados que iremos utilizar estão no link:https://www.kaggle.com/agirlcoding/all-space-missions-from-1957 \n",
    "#### O que você vai fazer é baixar e descompactar, ele já vem no formato csv."
   ]
  },
  {
   "cell_type": "markdown",
   "metadata": {},
   "source": [
    "# Bibliotecas"
   ]
  },
  {
   "cell_type": "code",
   "execution_count": 1,
   "metadata": {},
   "outputs": [],
   "source": [
    "# Biblioteca para análise de dados e estrutura de dados com alta performance e também fácil de usar.\n",
    "import pandas as pd \n",
    "\n",
    "# Biblioteca seaborn para visualização de dados, possibilitando a criação de gráficos sofisticados\n",
    "import seaborn as sns \n",
    "\n",
    "# E vamos usar seaborn para que toda vez que imprimirmos os gráfico possamos ter as linhas de grades para melhor \n",
    "# entendimento das informações apresentadas.\n",
    "sns.set(style = 'whitegrid') \n",
    "\n",
    "# E além disso também vamos chamar o conjunto de funções do matplotlib, o pyplot permite criar figuras e gráficos\n",
    "import matplotlib.pyplot as plt \n",
    "\n",
    "# E por último, se quisermos visualizar aqui no jupyter notebook os gráficos que iremos criar precisaremos desse carinha\n",
    "%matplotlib inline "
   ]
  },
  {
   "cell_type": "markdown",
   "metadata": {},
   "source": [
    "# <font color='pink'>Carregando os Dados</font>"
   ]
  },
  {
   "cell_type": "markdown",
   "metadata": {},
   "source": [
    "#### Para carregarmos um arquivo no formato csv iremos importar a biblioteca pandas que também irá nos ajudar no decorrer de nossas análises"
   ]
  },
  {
   "cell_type": "markdown",
   "metadata": {},
   "source": [
    "#### Feito isso iremos carregar o arquivo, lembrando que o arquivo tem que estar no mesmo diretório onde está o jupyter notebook\n",
    "#### Se ele estiver em outro diretório basta colocar o caminho completo."
   ]
  },
  {
   "cell_type": "code",
   "execution_count": 2,
   "metadata": {},
   "outputs": [],
   "source": [
    "# Carregando o arquivo, aqui o processo é simples basta executar essa linha\n",
    "df = pd.read_csv('files/datasets_828921_1417131_Space_Corrected.csv')"
   ]
  },
  {
   "cell_type": "markdown",
   "metadata": {},
   "source": [
    "# <font color='pink'>Análise Exploratória</font>"
   ]
  },
  {
   "cell_type": "markdown",
   "metadata": {},
   "source": [
    "### Entendendo como estão estruturado os Dados e organizá-los"
   ]
  },
  {
   "cell_type": "code",
   "execution_count": 3,
   "metadata": {},
   "outputs": [
    {
     "data": {
      "text/html": [
       "<div>\n",
       "<style scoped>\n",
       "    .dataframe tbody tr th:only-of-type {\n",
       "        vertical-align: middle;\n",
       "    }\n",
       "\n",
       "    .dataframe tbody tr th {\n",
       "        vertical-align: top;\n",
       "    }\n",
       "\n",
       "    .dataframe thead th {\n",
       "        text-align: right;\n",
       "    }\n",
       "</style>\n",
       "<table border=\"1\" class=\"dataframe\">\n",
       "  <thead>\n",
       "    <tr style=\"text-align: right;\">\n",
       "      <th></th>\n",
       "      <th>Unnamed: 0</th>\n",
       "      <th>Unnamed: 0.1</th>\n",
       "      <th>Company Name</th>\n",
       "      <th>Location</th>\n",
       "      <th>Datum</th>\n",
       "      <th>Detail</th>\n",
       "      <th>Status Rocket</th>\n",
       "      <th>Rocket</th>\n",
       "      <th>Status Mission</th>\n",
       "    </tr>\n",
       "  </thead>\n",
       "  <tbody>\n",
       "    <tr>\n",
       "      <th>0</th>\n",
       "      <td>0</td>\n",
       "      <td>0</td>\n",
       "      <td>SpaceX</td>\n",
       "      <td>LC-39A, Kennedy Space Center, Florida, USA</td>\n",
       "      <td>Fri Aug 07, 2020 05:12 UTC</td>\n",
       "      <td>Falcon 9 Block 5 | Starlink V1 L9 &amp; BlackSky</td>\n",
       "      <td>StatusActive</td>\n",
       "      <td>50.0</td>\n",
       "      <td>Success</td>\n",
       "    </tr>\n",
       "    <tr>\n",
       "      <th>1</th>\n",
       "      <td>1</td>\n",
       "      <td>1</td>\n",
       "      <td>CASC</td>\n",
       "      <td>Site 9401 (SLS-2), Jiuquan Satellite Launch Ce...</td>\n",
       "      <td>Thu Aug 06, 2020 04:01 UTC</td>\n",
       "      <td>Long March 2D | Gaofen-9 04 &amp; Q-SAT</td>\n",
       "      <td>StatusActive</td>\n",
       "      <td>29.75</td>\n",
       "      <td>Success</td>\n",
       "    </tr>\n",
       "    <tr>\n",
       "      <th>2</th>\n",
       "      <td>2</td>\n",
       "      <td>2</td>\n",
       "      <td>SpaceX</td>\n",
       "      <td>Pad A, Boca Chica, Texas, USA</td>\n",
       "      <td>Tue Aug 04, 2020 23:57 UTC</td>\n",
       "      <td>Starship Prototype | 150 Meter Hop</td>\n",
       "      <td>StatusActive</td>\n",
       "      <td>NaN</td>\n",
       "      <td>Success</td>\n",
       "    </tr>\n",
       "    <tr>\n",
       "      <th>3</th>\n",
       "      <td>3</td>\n",
       "      <td>3</td>\n",
       "      <td>Roscosmos</td>\n",
       "      <td>Site 200/39, Baikonur Cosmodrome, Kazakhstan</td>\n",
       "      <td>Thu Jul 30, 2020 21:25 UTC</td>\n",
       "      <td>Proton-M/Briz-M | Ekspress-80 &amp; Ekspress-103</td>\n",
       "      <td>StatusActive</td>\n",
       "      <td>65.0</td>\n",
       "      <td>Success</td>\n",
       "    </tr>\n",
       "    <tr>\n",
       "      <th>4</th>\n",
       "      <td>4</td>\n",
       "      <td>4</td>\n",
       "      <td>ULA</td>\n",
       "      <td>SLC-41, Cape Canaveral AFS, Florida, USA</td>\n",
       "      <td>Thu Jul 30, 2020 11:50 UTC</td>\n",
       "      <td>Atlas V 541 | Perseverance</td>\n",
       "      <td>StatusActive</td>\n",
       "      <td>145.0</td>\n",
       "      <td>Success</td>\n",
       "    </tr>\n",
       "  </tbody>\n",
       "</table>\n",
       "</div>"
      ],
      "text/plain": [
       "   Unnamed: 0  Unnamed: 0.1 Company Name  \\\n",
       "0           0             0       SpaceX   \n",
       "1           1             1         CASC   \n",
       "2           2             2       SpaceX   \n",
       "3           3             3    Roscosmos   \n",
       "4           4             4          ULA   \n",
       "\n",
       "                                            Location  \\\n",
       "0         LC-39A, Kennedy Space Center, Florida, USA   \n",
       "1  Site 9401 (SLS-2), Jiuquan Satellite Launch Ce...   \n",
       "2                      Pad A, Boca Chica, Texas, USA   \n",
       "3       Site 200/39, Baikonur Cosmodrome, Kazakhstan   \n",
       "4           SLC-41, Cape Canaveral AFS, Florida, USA   \n",
       "\n",
       "                        Datum                                        Detail  \\\n",
       "0  Fri Aug 07, 2020 05:12 UTC  Falcon 9 Block 5 | Starlink V1 L9 & BlackSky   \n",
       "1  Thu Aug 06, 2020 04:01 UTC           Long March 2D | Gaofen-9 04 & Q-SAT   \n",
       "2  Tue Aug 04, 2020 23:57 UTC            Starship Prototype | 150 Meter Hop   \n",
       "3  Thu Jul 30, 2020 21:25 UTC  Proton-M/Briz-M | Ekspress-80 & Ekspress-103   \n",
       "4  Thu Jul 30, 2020 11:50 UTC                    Atlas V 541 | Perseverance   \n",
       "\n",
       "  Status Rocket  Rocket Status Mission  \n",
       "0  StatusActive   50.0         Success  \n",
       "1  StatusActive  29.75         Success  \n",
       "2  StatusActive     NaN        Success  \n",
       "3  StatusActive   65.0         Success  \n",
       "4  StatusActive  145.0         Success  "
      ]
     },
     "execution_count": 3,
     "metadata": {},
     "output_type": "execute_result"
    }
   ],
   "source": [
    "# Para vermos se o arquivo foi carregado com sucesso executamos\n",
    "df.head() # O método head() por padrão imprime as 5 primeiras linhas do dataset"
   ]
  },
  {
   "cell_type": "code",
   "execution_count": 4,
   "metadata": {},
   "outputs": [
    {
     "data": {
      "text/plain": [
       "(4324, 9)"
      ]
     },
     "execution_count": 4,
     "metadata": {},
     "output_type": "execute_result"
    }
   ],
   "source": [
    "# Como vimos, temos o nosso arquivo lindo e gordinho, agora vamos ver o formato dele\n",
    "# Temos (linhas:4324, colunas: 9)\n",
    "df.shape"
   ]
  },
  {
   "cell_type": "code",
   "execution_count": 5,
   "metadata": {},
   "outputs": [
    {
     "data": {
      "text/plain": [
       "Index(['Unnamed: 0', 'Unnamed: 0.1', 'Company Name', 'Location', 'Datum',\n",
       "       'Detail', 'Status Rocket', ' Rocket', 'Status Mission'],\n",
       "      dtype='object')"
      ]
     },
     "execution_count": 5,
     "metadata": {},
     "output_type": "execute_result"
    }
   ],
   "source": [
    "# Como podemos ver, o nosso df tem colunas repetidas né, podemos selecionar somente as colunas que iremos usar\n",
    "# Vamos visualizar todas as colunas do df\n",
    "df.columns"
   ]
  },
  {
   "cell_type": "markdown",
   "metadata": {},
   "source": [
    "#### Dá pra vermos que as colunas Unnamed: 0', 'Unnamed: 0.1 não iremos precisar uma vez que eles estão duplicadas e já temos a coluna index do próprio pandas, e temos também a coluna 'Rocket' que está com um espaçamento à esquerda, isso pode nos dificultar quando formos analisar essa coluna. \n",
    "#### Então o próximo passo vai ser filtrar somente as colunas que iremos usar e renomear a coluna ' Rocket' para 'Cost_Mission'.\n",
    "\n",
    "#### A coluna 'Rocket' ela apresenta o custo total das missões em milhões de dólares."
   ]
  },
  {
   "cell_type": "code",
   "execution_count": 6,
   "metadata": {},
   "outputs": [
    {
     "data": {
      "text/html": [
       "<div>\n",
       "<style scoped>\n",
       "    .dataframe tbody tr th:only-of-type {\n",
       "        vertical-align: middle;\n",
       "    }\n",
       "\n",
       "    .dataframe tbody tr th {\n",
       "        vertical-align: top;\n",
       "    }\n",
       "\n",
       "    .dataframe thead th {\n",
       "        text-align: right;\n",
       "    }\n",
       "</style>\n",
       "<table border=\"1\" class=\"dataframe\">\n",
       "  <thead>\n",
       "    <tr style=\"text-align: right;\">\n",
       "      <th></th>\n",
       "      <th>Company Name</th>\n",
       "      <th>Location</th>\n",
       "      <th>Datum</th>\n",
       "      <th>Detail</th>\n",
       "      <th>Status Rocket</th>\n",
       "      <th>Cost_Mission</th>\n",
       "      <th>Status Mission</th>\n",
       "    </tr>\n",
       "  </thead>\n",
       "  <tbody>\n",
       "    <tr>\n",
       "      <th>0</th>\n",
       "      <td>SpaceX</td>\n",
       "      <td>LC-39A, Kennedy Space Center, Florida, USA</td>\n",
       "      <td>Fri Aug 07, 2020 05:12 UTC</td>\n",
       "      <td>Falcon 9 Block 5 | Starlink V1 L9 &amp; BlackSky</td>\n",
       "      <td>StatusActive</td>\n",
       "      <td>50.0</td>\n",
       "      <td>Success</td>\n",
       "    </tr>\n",
       "    <tr>\n",
       "      <th>1</th>\n",
       "      <td>CASC</td>\n",
       "      <td>Site 9401 (SLS-2), Jiuquan Satellite Launch Ce...</td>\n",
       "      <td>Thu Aug 06, 2020 04:01 UTC</td>\n",
       "      <td>Long March 2D | Gaofen-9 04 &amp; Q-SAT</td>\n",
       "      <td>StatusActive</td>\n",
       "      <td>29.75</td>\n",
       "      <td>Success</td>\n",
       "    </tr>\n",
       "    <tr>\n",
       "      <th>2</th>\n",
       "      <td>SpaceX</td>\n",
       "      <td>Pad A, Boca Chica, Texas, USA</td>\n",
       "      <td>Tue Aug 04, 2020 23:57 UTC</td>\n",
       "      <td>Starship Prototype | 150 Meter Hop</td>\n",
       "      <td>StatusActive</td>\n",
       "      <td>NaN</td>\n",
       "      <td>Success</td>\n",
       "    </tr>\n",
       "    <tr>\n",
       "      <th>3</th>\n",
       "      <td>Roscosmos</td>\n",
       "      <td>Site 200/39, Baikonur Cosmodrome, Kazakhstan</td>\n",
       "      <td>Thu Jul 30, 2020 21:25 UTC</td>\n",
       "      <td>Proton-M/Briz-M | Ekspress-80 &amp; Ekspress-103</td>\n",
       "      <td>StatusActive</td>\n",
       "      <td>65.0</td>\n",
       "      <td>Success</td>\n",
       "    </tr>\n",
       "    <tr>\n",
       "      <th>4</th>\n",
       "      <td>ULA</td>\n",
       "      <td>SLC-41, Cape Canaveral AFS, Florida, USA</td>\n",
       "      <td>Thu Jul 30, 2020 11:50 UTC</td>\n",
       "      <td>Atlas V 541 | Perseverance</td>\n",
       "      <td>StatusActive</td>\n",
       "      <td>145.0</td>\n",
       "      <td>Success</td>\n",
       "    </tr>\n",
       "  </tbody>\n",
       "</table>\n",
       "</div>"
      ],
      "text/plain": [
       "  Company Name                                           Location  \\\n",
       "0       SpaceX         LC-39A, Kennedy Space Center, Florida, USA   \n",
       "1         CASC  Site 9401 (SLS-2), Jiuquan Satellite Launch Ce...   \n",
       "2       SpaceX                      Pad A, Boca Chica, Texas, USA   \n",
       "3    Roscosmos       Site 200/39, Baikonur Cosmodrome, Kazakhstan   \n",
       "4          ULA           SLC-41, Cape Canaveral AFS, Florida, USA   \n",
       "\n",
       "                        Datum                                        Detail  \\\n",
       "0  Fri Aug 07, 2020 05:12 UTC  Falcon 9 Block 5 | Starlink V1 L9 & BlackSky   \n",
       "1  Thu Aug 06, 2020 04:01 UTC           Long March 2D | Gaofen-9 04 & Q-SAT   \n",
       "2  Tue Aug 04, 2020 23:57 UTC            Starship Prototype | 150 Meter Hop   \n",
       "3  Thu Jul 30, 2020 21:25 UTC  Proton-M/Briz-M | Ekspress-80 & Ekspress-103   \n",
       "4  Thu Jul 30, 2020 11:50 UTC                    Atlas V 541 | Perseverance   \n",
       "\n",
       "  Status Rocket Cost_Mission Status Mission  \n",
       "0  StatusActive        50.0         Success  \n",
       "1  StatusActive       29.75         Success  \n",
       "2  StatusActive          NaN        Success  \n",
       "3  StatusActive        65.0         Success  \n",
       "4  StatusActive       145.0         Success  "
      ]
     },
     "execution_count": 6,
     "metadata": {},
     "output_type": "execute_result"
    }
   ],
   "source": [
    "# Renomeando a coluna \n",
    "df.rename(columns = {' Rocket':'Cost_Mission'}, inplace = True) # A coluna 'Rocket' representa o custo total das missões em dólares, de acordo com o dicionário do dataset\n",
    "\n",
    "# Selecionando as colunas que iremos usar\n",
    "df = df[['Company Name', 'Location', 'Datum', 'Detail', 'Status Rocket', 'Cost_Mission', 'Status Mission']]\n",
    "\n",
    "# Visualizando o df com os dados filtrados e ajustado\n",
    "df.head()"
   ]
  },
  {
   "cell_type": "markdown",
   "metadata": {},
   "source": [
    "### Visualizando os tipos de dados do nosso DataFrame, é importante saber os tipos de dados pois vai nos ajudar mais pra frente quando a gente quiser fazer cálculos com os dados"
   ]
  },
  {
   "cell_type": "code",
   "execution_count": 7,
   "metadata": {},
   "outputs": [
    {
     "data": {
      "text/plain": [
       "Company Name      object\n",
       "Location          object\n",
       "Datum             object\n",
       "Detail            object\n",
       "Status Rocket     object\n",
       "Cost_Mission      object\n",
       "Status Mission    object\n",
       "dtype: object"
      ]
     },
     "execution_count": 7,
     "metadata": {},
     "output_type": "execute_result"
    }
   ],
   "source": [
    "# Visualizando o tipo de dados das colunas do DF\n",
    "df.dtypes"
   ]
  },
  {
   "cell_type": "markdown",
   "metadata": {},
   "source": [
    "#### Percebemos que as colunas 'Cost_Mission' e 'Datum' estão com tipos/formato de dados errado, mbora corrigí-los.\n",
    "\n",
    "#### Lembrando que os dados da coluna 'Location' representa os países onde foram feitos os lançamentos, não necessáriamente que o país onde foi feito o lançamento seja o país responsável por toda a missão."
   ]
  },
  {
   "cell_type": "code",
   "execution_count": 8,
   "metadata": {},
   "outputs": [
    {
     "data": {
      "text/html": [
       "<div>\n",
       "<style scoped>\n",
       "    .dataframe tbody tr th:only-of-type {\n",
       "        vertical-align: middle;\n",
       "    }\n",
       "\n",
       "    .dataframe tbody tr th {\n",
       "        vertical-align: top;\n",
       "    }\n",
       "\n",
       "    .dataframe thead th {\n",
       "        text-align: right;\n",
       "    }\n",
       "</style>\n",
       "<table border=\"1\" class=\"dataframe\">\n",
       "  <thead>\n",
       "    <tr style=\"text-align: right;\">\n",
       "      <th></th>\n",
       "      <th>Company Name</th>\n",
       "      <th>Location</th>\n",
       "      <th>Datum</th>\n",
       "      <th>Detail</th>\n",
       "      <th>Status Rocket</th>\n",
       "      <th>Cost_Mission</th>\n",
       "      <th>Status Mission</th>\n",
       "    </tr>\n",
       "  </thead>\n",
       "  <tbody>\n",
       "    <tr>\n",
       "      <th>0</th>\n",
       "      <td>SpaceX</td>\n",
       "      <td>USA</td>\n",
       "      <td>2020-08-07 05:12:00</td>\n",
       "      <td>Falcon 9 Block 5 | Starlink V1 L9 &amp; BlackSky</td>\n",
       "      <td>StatusActive</td>\n",
       "      <td>50.00</td>\n",
       "      <td>Success</td>\n",
       "    </tr>\n",
       "    <tr>\n",
       "      <th>1</th>\n",
       "      <td>CASC</td>\n",
       "      <td>China</td>\n",
       "      <td>2020-08-06 04:01:00</td>\n",
       "      <td>Long March 2D | Gaofen-9 04 &amp; Q-SAT</td>\n",
       "      <td>StatusActive</td>\n",
       "      <td>29.75</td>\n",
       "      <td>Success</td>\n",
       "    </tr>\n",
       "    <tr>\n",
       "      <th>2</th>\n",
       "      <td>SpaceX</td>\n",
       "      <td>USA</td>\n",
       "      <td>2020-08-04 23:57:00</td>\n",
       "      <td>Starship Prototype | 150 Meter Hop</td>\n",
       "      <td>StatusActive</td>\n",
       "      <td>NaN</td>\n",
       "      <td>Success</td>\n",
       "    </tr>\n",
       "    <tr>\n",
       "      <th>3</th>\n",
       "      <td>Roscosmos</td>\n",
       "      <td>Kazakhstan</td>\n",
       "      <td>2020-07-30 21:25:00</td>\n",
       "      <td>Proton-M/Briz-M | Ekspress-80 &amp; Ekspress-103</td>\n",
       "      <td>StatusActive</td>\n",
       "      <td>65.00</td>\n",
       "      <td>Success</td>\n",
       "    </tr>\n",
       "    <tr>\n",
       "      <th>4</th>\n",
       "      <td>ULA</td>\n",
       "      <td>USA</td>\n",
       "      <td>2020-07-30 11:50:00</td>\n",
       "      <td>Atlas V 541 | Perseverance</td>\n",
       "      <td>StatusActive</td>\n",
       "      <td>145.00</td>\n",
       "      <td>Success</td>\n",
       "    </tr>\n",
       "  </tbody>\n",
       "</table>\n",
       "</div>"
      ],
      "text/plain": [
       "  Company Name     Location                Datum  \\\n",
       "0       SpaceX          USA  2020-08-07 05:12:00   \n",
       "1         CASC        China  2020-08-06 04:01:00   \n",
       "2       SpaceX          USA  2020-08-04 23:57:00   \n",
       "3    Roscosmos   Kazakhstan  2020-07-30 21:25:00   \n",
       "4          ULA          USA  2020-07-30 11:50:00   \n",
       "\n",
       "                                         Detail Status Rocket  Cost_Mission  \\\n",
       "0  Falcon 9 Block 5 | Starlink V1 L9 & BlackSky  StatusActive         50.00   \n",
       "1           Long March 2D | Gaofen-9 04 & Q-SAT  StatusActive         29.75   \n",
       "2            Starship Prototype | 150 Meter Hop  StatusActive           NaN   \n",
       "3  Proton-M/Briz-M | Ekspress-80 & Ekspress-103  StatusActive         65.00   \n",
       "4                    Atlas V 541 | Perseverance  StatusActive        145.00   \n",
       "\n",
       "  Status Mission  \n",
       "0        Success  \n",
       "1        Success  \n",
       "2        Success  \n",
       "3        Success  \n",
       "4        Success  "
      ]
     },
     "execution_count": 8,
     "metadata": {},
     "output_type": "execute_result"
    }
   ],
   "source": [
    "# Substituindo os caracters da coluna 'Cost_Mission'\n",
    "df['Cost_Mission'] = df['Cost_Mission'].str.replace(',', '')\n",
    "\n",
    "# Alterando o tipo de dados da coluna 'Cost_Mission' de object para float\n",
    "df['Cost_Mission'] = df['Cost_Mission'].astype(float)\n",
    "\n",
    "# Alterando o formato da coluna 'Datum' para tipo de data e formato de fácil compreensão\n",
    "df['Datum'] = pd.to_datetime(df['Datum']).apply(lambda x: x.strftime(\"%Y-%m-%d %H:%M:%S\"))\n",
    "\n",
    "# Fatiando a coluna 'Location' para pegarmos somente o país \n",
    "df['Location'] =  [val[-1] for val in df.Location.str.split(',')]\n",
    "\n",
    "# Visualizando os dados\n",
    "df.head()"
   ]
  },
  {
   "cell_type": "markdown",
   "metadata": {},
   "source": [
    "#### Agora que temos os dados do jeito que a gente gostaria, vamos dar uma olhada se temos dados nulos no nosso dataset, isso é muito comum acontecer, pode ser um usuário que esquece de preencher os campos ou problema na aplicação também."
   ]
  },
  {
   "cell_type": "code",
   "execution_count": 9,
   "metadata": {},
   "outputs": [
    {
     "data": {
      "text/plain": [
       "Company Name         0\n",
       "Location             0\n",
       "Datum                0\n",
       "Detail               0\n",
       "Status Rocket        0\n",
       "Cost_Mission      3360\n",
       "Status Mission       0\n",
       "dtype: int64"
      ]
     },
     "execution_count": 9,
     "metadata": {},
     "output_type": "execute_result"
    }
   ],
   "source": [
    "# Visualizando valores nulos no dataset\n",
    "df.isnull().sum()"
   ]
  },
  {
   "cell_type": "markdown",
   "metadata": {},
   "source": [
    "#### Temos dados nulos no nosso DataFrame veja na coluna 'Cost_Mission' são 3360 nulos, então mbora tratá-los:\n",
    "#### Existem várias formas de tratar dados nulos, só devemos tomar muito cuidado para não mudarmos muito o nosso dataset ao ponto de não condizer com os fatos reais.\n",
    "\n",
    "#### No caso desse dataset percebemos que algumas empresas não declararam o custo de suas missões, nesse caso iremos um método que vai pegar a todos os valores NaN dessa coluna e substituir por 0. Mbora lá..."
   ]
  },
  {
   "cell_type": "code",
   "execution_count": 10,
   "metadata": {},
   "outputs": [],
   "source": [
    "# Filtrando os valores NaN e substituílos por 0\n",
    "df.Cost_Mission.fillna(0, inplace = True)"
   ]
  },
  {
   "cell_type": "code",
   "execution_count": 11,
   "metadata": {},
   "outputs": [
    {
     "data": {
      "text/html": [
       "<div>\n",
       "<style scoped>\n",
       "    .dataframe tbody tr th:only-of-type {\n",
       "        vertical-align: middle;\n",
       "    }\n",
       "\n",
       "    .dataframe tbody tr th {\n",
       "        vertical-align: top;\n",
       "    }\n",
       "\n",
       "    .dataframe thead th {\n",
       "        text-align: right;\n",
       "    }\n",
       "</style>\n",
       "<table border=\"1\" class=\"dataframe\">\n",
       "  <thead>\n",
       "    <tr style=\"text-align: right;\">\n",
       "      <th></th>\n",
       "      <th>Company Name</th>\n",
       "      <th>Location</th>\n",
       "      <th>Datum</th>\n",
       "      <th>Detail</th>\n",
       "      <th>Status Rocket</th>\n",
       "      <th>Cost_Mission</th>\n",
       "      <th>Status Mission</th>\n",
       "    </tr>\n",
       "  </thead>\n",
       "  <tbody>\n",
       "    <tr>\n",
       "      <th>0</th>\n",
       "      <td>SpaceX</td>\n",
       "      <td>USA</td>\n",
       "      <td>2020-08-07 05:12:00</td>\n",
       "      <td>Falcon 9 Block 5 | Starlink V1 L9 &amp; BlackSky</td>\n",
       "      <td>StatusActive</td>\n",
       "      <td>50.00</td>\n",
       "      <td>Success</td>\n",
       "    </tr>\n",
       "    <tr>\n",
       "      <th>1</th>\n",
       "      <td>CASC</td>\n",
       "      <td>China</td>\n",
       "      <td>2020-08-06 04:01:00</td>\n",
       "      <td>Long March 2D | Gaofen-9 04 &amp; Q-SAT</td>\n",
       "      <td>StatusActive</td>\n",
       "      <td>29.75</td>\n",
       "      <td>Success</td>\n",
       "    </tr>\n",
       "    <tr>\n",
       "      <th>2</th>\n",
       "      <td>SpaceX</td>\n",
       "      <td>USA</td>\n",
       "      <td>2020-08-04 23:57:00</td>\n",
       "      <td>Starship Prototype | 150 Meter Hop</td>\n",
       "      <td>StatusActive</td>\n",
       "      <td>0.00</td>\n",
       "      <td>Success</td>\n",
       "    </tr>\n",
       "    <tr>\n",
       "      <th>3</th>\n",
       "      <td>Roscosmos</td>\n",
       "      <td>Kazakhstan</td>\n",
       "      <td>2020-07-30 21:25:00</td>\n",
       "      <td>Proton-M/Briz-M | Ekspress-80 &amp; Ekspress-103</td>\n",
       "      <td>StatusActive</td>\n",
       "      <td>65.00</td>\n",
       "      <td>Success</td>\n",
       "    </tr>\n",
       "    <tr>\n",
       "      <th>4</th>\n",
       "      <td>ULA</td>\n",
       "      <td>USA</td>\n",
       "      <td>2020-07-30 11:50:00</td>\n",
       "      <td>Atlas V 541 | Perseverance</td>\n",
       "      <td>StatusActive</td>\n",
       "      <td>145.00</td>\n",
       "      <td>Success</td>\n",
       "    </tr>\n",
       "  </tbody>\n",
       "</table>\n",
       "</div>"
      ],
      "text/plain": [
       "  Company Name     Location                Datum  \\\n",
       "0       SpaceX          USA  2020-08-07 05:12:00   \n",
       "1         CASC        China  2020-08-06 04:01:00   \n",
       "2       SpaceX          USA  2020-08-04 23:57:00   \n",
       "3    Roscosmos   Kazakhstan  2020-07-30 21:25:00   \n",
       "4          ULA          USA  2020-07-30 11:50:00   \n",
       "\n",
       "                                         Detail Status Rocket  Cost_Mission  \\\n",
       "0  Falcon 9 Block 5 | Starlink V1 L9 & BlackSky  StatusActive         50.00   \n",
       "1           Long March 2D | Gaofen-9 04 & Q-SAT  StatusActive         29.75   \n",
       "2            Starship Prototype | 150 Meter Hop  StatusActive          0.00   \n",
       "3  Proton-M/Briz-M | Ekspress-80 & Ekspress-103  StatusActive         65.00   \n",
       "4                    Atlas V 541 | Perseverance  StatusActive        145.00   \n",
       "\n",
       "  Status Mission  \n",
       "0        Success  \n",
       "1        Success  \n",
       "2        Success  \n",
       "3        Success  \n",
       "4        Success  "
      ]
     },
     "execution_count": 11,
     "metadata": {},
     "output_type": "execute_result"
    }
   ],
   "source": [
    "df.head()"
   ]
  },
  {
   "cell_type": "markdown",
   "metadata": {},
   "source": [
    "#### Agora que o nosso dataset está sem dados nulos e estão organizados como gostaríamos, podemos fazer algumas perguntas começando com:\n",
    "## * Desde 1957 quantas Missões foram realizadas, apresentando por status da missão?"
   ]
  },
  {
   "cell_type": "code",
   "execution_count": 12,
   "metadata": {},
   "outputs": [
    {
     "data": {
      "text/plain": [
       "Success              3879\n",
       "Failure               339\n",
       "Partial Failure       102\n",
       "Prelaunch Failure       4\n",
       "Name: Status Mission, dtype: int64"
      ]
     },
     "execution_count": 12,
     "metadata": {},
     "output_type": "execute_result"
    }
   ],
   "source": [
    "# Temos três tipos de status: 'Success', 'Failure', 'Prelaunch Failure' e 'Partial Failure'\n",
    "# Visualizando a quantidade de missões por status\n",
    "df['Status Mission'].value_counts()"
   ]
  },
  {
   "cell_type": "markdown",
   "metadata": {},
   "source": [
    "#### Podemos ver que grande parte das missões realizadas foram bem sucedidas, graças à Deus! Hehehehe\n",
    "#### Mas para deixarmos isso mais interssante que tal já prepararmos esse insight bonitinho para o nosso report?"
   ]
  },
  {
   "cell_type": "markdown",
   "metadata": {},
   "source": [
    "#### O processo é simples mbora lá..."
   ]
  },
  {
   "cell_type": "code",
   "execution_count": 13,
   "metadata": {},
   "outputs": [
    {
     "data": {
      "image/png": "[encoded data removed]",
      "text/plain": [
       "<Figure size 752.4x396 with 1 Axes>"
      ]
     },
     "metadata": {
      "needs_background": "light"
     },
     "output_type": "display_data"
    }
   ],
   "source": [
    "# Nesse caso iremos usar um gráfico de categoria, que é o catplot é bem bacana e iremos colocar pimenta por cima\n",
    "# pra ficar ainda mais gostoso.\n",
    "\n",
    "# Definindo os valores para os eixos x e y\n",
    "x = df['Status Mission'].value_counts().index\n",
    "y = df['Status Mission'].value_counts()\n",
    "\n",
    "# Criando o gráfico\n",
    "g = sns.catplot(x = x, y = y, data = df, kind = 'bar', aspect = 1.9, height = 5.5, palette = 'rocket')\n",
    "g.ax.set_title('Quantidade de Missões para o espaço desde 1957', fontdict = {'size':18})\n",
    "g.ax.xaxis.set_label_text('Status da Missão', fontdict = {'size':16})\n",
    "g.ax.yaxis.set_label_text('Total de Missões', fontdict = {'size': 16})\n",
    "\n",
    "# Imprimindo a contagem por cima das barras do gráfico\n",
    "for i in g.ax.patches:\n",
    "    g.ax.annotate((int(i.get_height())), \n",
    "    (i.get_x()+0.35, \n",
    "    i.get_height()+20))"
   ]
  },
  {
   "cell_type": "markdown",
   "metadata": {},
   "source": [
    "#### Vamos a próxima pergunta?\n",
    "## * Quais os 10 países que mais tiveram sucesso nos lançamentos?"
   ]
  },
  {
   "cell_type": "markdown",
   "metadata": {},
   "source": [
    "#### E para minha surpresa, acredito que também de muita gente, os EUA não é o país que mais teve sucesso em seus lançamentos. A Rússia lidera a lista do TOP 10 e em décimo lugar está ocupado por Israel, tendo realizado 9 lançamentos bem sucedidos."
   ]
  },
  {
   "cell_type": "code",
   "execution_count": 14,
   "metadata": {},
   "outputs": [
    {
     "data": {
      "image/png": "[encoded data removed]",
      "text/plain": [
       "<Figure size 1080x576 with 1 Axes>"
      ]
     },
     "metadata": {
      "needs_background": "light"
     },
     "output_type": "display_data"
    }
   ],
   "source": [
    "# Vamos listar o TOP dos 10 países que mais tiveram lançamentos bem sucedidos\n",
    "\n",
    "# Filtrando todos os lançamentos que foram bem sucedido e pegando os 10 mais bem sucedidos\n",
    "success = df[df['Status Mission'] == 'Success']\n",
    "success = pd.DataFrame(success.Location.value_counts().head(10))\n",
    "\n",
    "# Criando a figura do gráfico e definindo o tamanho\n",
    "plt.figure(figsize=(15, 8))\n",
    "\n",
    "# Criando o gráfico\n",
    "splot = sns.barplot(x = success.index, y = success.Location, color = 'seagreen')\n",
    "\n",
    "# Adicionando título ao nosso gráfico\n",
    "plt.title('Quantidade de Missões Bem Sucedidas - Por País', fontdict = {'size':18})\n",
    "\n",
    "# Definindo o formato e os valores dos eixos x e y\n",
    "plt.xlabel('País', fontdict = {'size':16})\n",
    "plt.ylabel('Total de Missões Bem Sucedidas', fontdict = {'size':16})\n",
    "\n",
    "# Imprimindo a contagem por cima das barras do gráfico\n",
    "for i in splot.patches:\n",
    "    splot.annotate((int(i.get_height())), \n",
    "    (i.get_x()+0.25, \n",
    "    i.get_height()+20))"
   ]
  },
  {
   "cell_type": "markdown",
   "metadata": {},
   "source": [
    "#### Próxima pergunta...\n",
    "## * Quais são os países que foram mal sucedidos em seus lançamentos?\n",
    "\n",
    "#### Lembrando que aqui estamos desconsiderando todos todos status de lançamentos diferente de 'Success'\n",
    "#### O gráfico nos mostra que os EUA lidera como o país que mais teve lançamentos mal sucedido seguido do Kazakhstan e Rússia"
   ]
  },
  {
   "cell_type": "code",
   "execution_count": 15,
   "metadata": {},
   "outputs": [
    {
     "data": {
      "image/png": "[encoded data removed]",
      "text/plain": [
       "<Figure size 900x360 with 1 Axes>"
      ]
     },
     "metadata": {
      "needs_background": "light"
     },
     "output_type": "display_data"
    }
   ],
   "source": [
    "# vamos listar os 10 país que mais tiveram lançamentos mal sucedidos\n",
    "\n",
    "# Filtrando todos os dados do dataset com status de lançamento diferente de 'Success'\n",
    "failure = df[df['Status Mission'] != 'Success']\n",
    "failure = pd.DataFrame(failure.Location.value_counts().head(10))\n",
    "\n",
    "# Criando o gráfico\n",
    "g = sns.catplot(x = failure.index, y = failure.Location, data = df, aspect = 2.5, kind = 'bar', palette = 'rocket')\n",
    "\n",
    "# Adicionando título ao gráfico \n",
    "g.ax.set_title('Quantidade de Missões Mal Sucedidas - Por País', fontdict = {'size':18})\n",
    "\n",
    "# Definindo os eixos x & y\n",
    "g.ax.xaxis.set_label_text('País', fontdict = {'size':16})\n",
    "g.ax.yaxis.set_label_text('Total de Missões Mal Sucedidas', fontdict = {'size':16})\n",
    "\n",
    "# Ajustando os rótulos eixo x para 45 graus\n",
    "g.set_xticklabels(rotation = 45, ha = 'right')\n",
    "\n",
    "# Imprimindo a contagem por cima das barras do gráfico\n",
    "for i in g.ax.patches:\n",
    "    g.ax.annotate((int(i.get_height())), \n",
    "    (i.get_x()+0.25, \n",
    "    i.get_height()+2.5))"
   ]
  },
  {
   "cell_type": "markdown",
   "metadata": {},
   "source": [
    "#### Boa! Você aprendeu um pouco mais sobre análise exploratória e criação de gráficos, recomendo que faça isso de novo e de novo até ficar craque, tenta explorar com outros tipos de gráficos do Seaborn link: https://seaborn.pydata.org/ lá você terá outros gráficos tenta explorar mais, o segredo está na prática, então pratique."
   ]
  },
  {
   "cell_type": "markdown",
   "metadata": {},
   "source": [
    "#### Próxima pergunta?\n",
    "\n",
    "## * Custo médio de uma missão por país, bem como o status da missão?"
   ]
  },
  {
   "cell_type": "markdown",
   "metadata": {},
   "source": [
    "#### Primeiro vamos calcular a média de custo por país"
   ]
  },
  {
   "cell_type": "code",
   "execution_count": 16,
   "metadata": {},
   "outputs": [
    {
     "data": {
      "text/html": [
       "<div>\n",
       "<style scoped>\n",
       "    .dataframe tbody tr th:only-of-type {\n",
       "        vertical-align: middle;\n",
       "    }\n",
       "\n",
       "    .dataframe tbody tr th {\n",
       "        vertical-align: top;\n",
       "    }\n",
       "\n",
       "    .dataframe thead th {\n",
       "        text-align: right;\n",
       "    }\n",
       "</style>\n",
       "<table border=\"1\" class=\"dataframe\">\n",
       "  <thead>\n",
       "    <tr style=\"text-align: right;\">\n",
       "      <th></th>\n",
       "      <th>Location</th>\n",
       "      <th>Status Mission</th>\n",
       "      <th>avgCost</th>\n",
       "    </tr>\n",
       "  </thead>\n",
       "  <tbody>\n",
       "    <tr>\n",
       "      <th>0</th>\n",
       "      <td>USA</td>\n",
       "      <td>Success</td>\n",
       "      <td>221</td>\n",
       "    </tr>\n",
       "    <tr>\n",
       "      <th>1</th>\n",
       "      <td>USA</td>\n",
       "      <td>Failure</td>\n",
       "      <td>86</td>\n",
       "    </tr>\n",
       "    <tr>\n",
       "      <th>2</th>\n",
       "      <td>USA</td>\n",
       "      <td>Partial Failure</td>\n",
       "      <td>259</td>\n",
       "    </tr>\n",
       "    <tr>\n",
       "      <th>3</th>\n",
       "      <td>USA</td>\n",
       "      <td>Prelaunch Failure</td>\n",
       "      <td>62</td>\n",
       "    </tr>\n",
       "    <tr>\n",
       "      <th>4</th>\n",
       "      <td>China</td>\n",
       "      <td>Success</td>\n",
       "      <td>40</td>\n",
       "    </tr>\n",
       "  </tbody>\n",
       "</table>\n",
       "</div>"
      ],
      "text/plain": [
       "  Location     Status Mission  avgCost\n",
       "0      USA            Success      221\n",
       "1      USA            Failure       86\n",
       "2      USA    Partial Failure      259\n",
       "3      USA  Prelaunch Failure       62\n",
       "4    China            Success       40"
      ]
     },
     "execution_count": 16,
     "metadata": {},
     "output_type": "execute_result"
    }
   ],
   "source": [
    "# Calculando a média de custo por por missão\n",
    "# Definindo a variável para fazermos o pivot \n",
    "trial = pd.DataFrame()\n",
    "\n",
    "# Selecionando somente o custo de missiões maior que zero\n",
    "df = df[df['Cost_Mission'] > 0]\n",
    "\n",
    "# Selecionando os dados e aplicando a média\n",
    "for b in list(df['Location'].unique()):\n",
    "    for v in list(df['Status Mission'].unique()):\n",
    "        z = df[(df['Location'] == b) & (df['Status Mission'] == v)]['Cost_Mission'].mean()\n",
    "        trial = trial.append(pd.DataFrame({'Location':b , 'Status Mission':v , 'avgCost':z}, index=[0]))\n",
    "\n",
    "# Resetando o index do nosso novo conjunto de dados        \n",
    "trial = trial.reset_index()\n",
    "\n",
    "# Deltando o index gerado automático e filtrando os dados e valores nulos\n",
    "del trial['index']\n",
    "trial['avgCost'].fillna(0,inplace=True)\n",
    "trial['avgCost'].isnull().value_counts()\n",
    "trial['avgCost'] = trial['avgCost'].astype(int)\n",
    "\n",
    "# Visualizando as 5 primeiras linhas do novo conjunto de dados\n",
    "pd.DataFrame(trial.head())"
   ]
  },
  {
   "cell_type": "code",
   "execution_count": 17,
   "metadata": {},
   "outputs": [
    {
     "data": {
      "image/png": "[encoded data removed]",
      "text/plain": [
       "<Figure size 1080x900 with 2 Axes>"
      ]
     },
     "metadata": {
      "needs_background": "light"
     },
     "output_type": "display_data"
    }
   ],
   "source": [
    "# Custo médio de uma missão por país, bem como o status da missão?\n",
    "\n",
    "# Selecionando as colunas do nosso novo dataset\n",
    "tri = trial.pivot('Location', 'Status Mission', 'avgCost')\n",
    "\n",
    "# Criando a figura para o gráfico\n",
    "fig, ax = plt.subplots(figsize=(15, 12.5))\n",
    "\n",
    "# Criando o gráfico\n",
    "sns.heatmap(tri, linewidths=1, cmap='YlGn', annot=True, ax=ax, fmt='d')\n",
    "\n",
    "# Definindo o título do gráfico\n",
    "ax.set_title('Heatmap - Custo médio de uma missão por país, bem como o status da missão', fontdict={'size':20})\n",
    "\n",
    "# Adicionando título nos eixos x e y\n",
    "ax.xaxis.set_label_text('Status Missão',fontdict= {'size':20})\n",
    "ax.yaxis.set_label_text('País',fontdict= {'size':20})\n",
    "\n",
    "# Plotando o gráfico\n",
    "plt.show()"
   ]
  },
  {
   "cell_type": "markdown",
   "metadata": {},
   "source": [
    "#### Próxima pergunta...\n",
    "## * Qual é o TOP 10 dos países que mais gastaram em suas missões?\n",
    "#### Lembrando que aqui o valor da missão está sendo representando em milhoões de dólares.\n",
    "\n",
    "#### E os EUA é o pais que lidera disparado se tratando de maiores gastos de missões para o espaço"
   ]
  },
  {
   "cell_type": "code",
   "execution_count": 18,
   "metadata": {},
   "outputs": [
    {
     "data": {
      "image/png": "[encoded data removed]",
      "text/plain": [
       "<Figure size 900x360 with 1 Axes>"
      ]
     },
     "metadata": {
      "needs_background": "light"
     },
     "output_type": "display_data"
    }
   ],
   "source": [
    "# Listando o TOP 10 dos países que mais gastaram com missões para o espaço\n",
    "\n",
    "# Agrupando os dados por local e por total de missões\n",
    "cost_mission = df.groupby('Location').Cost_Mission.sum()\n",
    "\n",
    "# Adicionando o resultado dos filtros nas variáveis x e y\n",
    "y = cost_mission.sort_values(ascending = False).head(10).values\n",
    "x = cost_mission.sort_values(ascending = False).head(10).index\n",
    "\n",
    "# Criando o gráfico\n",
    "g = sns.catplot(x = x, y = y, data = df, aspect = 2.5, kind = 'bar', palette = 'Blues_r')\n",
    "\n",
    "# Adicionando título ao gráfico\n",
    "g.ax.set_title('Custo Total das Missões | por País', fontdict = {'size':18})\n",
    "\n",
    "# Definindo os dados para o eixo x e y\n",
    "g.ax.xaxis.set_label_text('País', fontdict = {'size':16})\n",
    "g.ax.yaxis.set_label_text('Valor Total em milhões de dólares', fontdict = {'size':16})\n",
    "\n",
    "# Ajustando os rótulos eixo x para 45 graus\n",
    "g.set_xticklabels(rotation = 45, ha = 'right')\n",
    "\n",
    "# Imprimindo a contagem por cima das barras do gráfico\n",
    "for i in g.ax.patches:\n",
    "    g.ax.annotate((int(i.get_height())), \n",
    "    (i.get_x()+0.20, \n",
    "    i.get_height()+3.5))"
   ]
  }
 ],
 "metadata": {
  "kernelspec": {
   "display_name": "Python 3",
   "language": "python",
   "name": "python3"
  },
  "language_info": {
   "codemirror_mode": {
    "name": "ipython",
    "version": 3
   },
   "file_extension": ".py",
   "mimetype": "text/x-python",
   "name": "python",
   "nbconvert_exporter": "python",
   "pygments_lexer": "ipython3",
   "version": "3.7.6"
  }
 },
 "nbformat": 4,
 "nbformat_minor": 4
}
