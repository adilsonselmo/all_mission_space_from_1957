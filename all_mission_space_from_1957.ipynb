{
 "cells": [
  {
   "cell_type": "markdown",
   "metadata": {},
   "source": [
    "# <font color='pink' size='6'>All Mission Space from 1957</font>"
   ]
  },
  {
   "cell_type": "markdown",
   "metadata": {},
   "source": [
    "### Saaalve galera mbora aprender um pouco mais com os dados que temos a nossa disposição no Kaggle, eu como sendo um fascinado pela astrofísica decidi pegar os dados de todas as missões para o espaço desde 1957.\n",
    "### Mbora então ver e aprender um pouco mais sobre como fazer análise exploratória dos dados com Python huhuh :) e já coletar insights\n",
    "### Link do dataset: https://www.kaggle.com/agirlcoding/all-space-missions-from-1957 e simboraaa."
   ]
  },
  {
   "cell_type": "markdown",
   "metadata": {},
   "source": [
    "#### Ao contrário de que muita gente pensa no mundo real quando um Analista de Dados desenvolve um projeto as coisas não seguem extamente igual como nos é ensinado...\n",
    "#### Nós sabemos que existe uma sequência que se segue ao desenvolvermos um projeto de Data Analysis: 1. Perguntas; 2. Coleta/Organização do dados; 3. Análise dos Dados; 4. Apresentação.\n",
    "#### Só que como sabemos na prática nem sempre é assim. No dia a dia as coisas podem acontecer em oredem diferentes, sabemos a sequência e aonde queremos chegar, no final isso é o que importa.\n",
    "#### Então aqui irei simular o mundo real huhuh."
   ]
  },
  {
   "cell_type": "markdown",
   "metadata": {},
   "source": [
    "# <font color='pink'>Coleta dos Dados</font>"
   ]
  },
  {
   "cell_type": "markdown",
   "metadata": {},
   "source": [
    "#### Os dados que iremos utilizar estão no link:https://www.kaggle.com/agirlcoding/all-space-missions-from-1957 \n",
    "#### O que você vai fazer é baixar e descompactar, ele já vem no formato csv."
   ]
  },
  {
   "cell_type": "markdown",
   "metadata": {},
   "source": [
    "# <font color='pink'>Carregando os Dados</font>"
   ]
  },
  {
   "cell_type": "markdown",
   "metadata": {},
   "source": [
    "#### Para carregarmos um arquivo no formato csv iremos importar a biblioteca pandas que também irá nos ajudar no decorrer de nossas análises"
   ]
  },
  {
   "cell_type": "code",
   "execution_count": 1,
   "metadata": {},
   "outputs": [],
   "source": [
    "# Biblioteca para análise de dados e estrutura de dados com alta performance e também fácil de usar.\n",
    "import pandas as pd "
   ]
  },
  {
   "cell_type": "markdown",
   "metadata": {},
   "source": [
    "#### Feito isso iremos carregar o arquivo, lembrando que o arquivo tem que estar no mesmo diretório onde está o jupyter notebook\n",
    "#### Se ele estiver em outro diretório basta colocar o caminho completo."
   ]
  },
  {
   "cell_type": "code",
   "execution_count": 2,
   "metadata": {},
   "outputs": [],
   "source": [
    "# Carregando o arquivo, aqui o processo é simples basta executar essa linha\n",
    "df = pd.read_csv('files/datasets_828921_1417131_Space_Corrected.csv')"
   ]
  },
  {
   "cell_type": "code",
   "execution_count": 3,
   "metadata": {},
   "outputs": [
    {
     "data": {
      "text/html": [
       "<div>\n",
       "<style scoped>\n",
       "    .dataframe tbody tr th:only-of-type {\n",
       "        vertical-align: middle;\n",
       "    }\n",
       "\n",
       "    .dataframe tbody tr th {\n",
       "        vertical-align: top;\n",
       "    }\n",
       "\n",
       "    .dataframe thead th {\n",
       "        text-align: right;\n",
       "    }\n",
       "</style>\n",
       "<table border=\"1\" class=\"dataframe\">\n",
       "  <thead>\n",
       "    <tr style=\"text-align: right;\">\n",
       "      <th></th>\n",
       "      <th>Unnamed: 0</th>\n",
       "      <th>Unnamed: 0.1</th>\n",
       "      <th>Company Name</th>\n",
       "      <th>Location</th>\n",
       "      <th>Datum</th>\n",
       "      <th>Detail</th>\n",
       "      <th>Status Rocket</th>\n",
       "      <th>Rocket</th>\n",
       "      <th>Status Mission</th>\n",
       "    </tr>\n",
       "  </thead>\n",
       "  <tbody>\n",
       "    <tr>\n",
       "      <th>0</th>\n",
       "      <td>0</td>\n",
       "      <td>0</td>\n",
       "      <td>SpaceX</td>\n",
       "      <td>LC-39A, Kennedy Space Center, Florida, USA</td>\n",
       "      <td>Fri Aug 07, 2020 05:12 UTC</td>\n",
       "      <td>Falcon 9 Block 5 | Starlink V1 L9 &amp; BlackSky</td>\n",
       "      <td>StatusActive</td>\n",
       "      <td>50.0</td>\n",
       "      <td>Success</td>\n",
       "    </tr>\n",
       "    <tr>\n",
       "      <th>1</th>\n",
       "      <td>1</td>\n",
       "      <td>1</td>\n",
       "      <td>CASC</td>\n",
       "      <td>Site 9401 (SLS-2), Jiuquan Satellite Launch Ce...</td>\n",
       "      <td>Thu Aug 06, 2020 04:01 UTC</td>\n",
       "      <td>Long March 2D | Gaofen-9 04 &amp; Q-SAT</td>\n",
       "      <td>StatusActive</td>\n",
       "      <td>29.75</td>\n",
       "      <td>Success</td>\n",
       "    </tr>\n",
       "    <tr>\n",
       "      <th>2</th>\n",
       "      <td>2</td>\n",
       "      <td>2</td>\n",
       "      <td>SpaceX</td>\n",
       "      <td>Pad A, Boca Chica, Texas, USA</td>\n",
       "      <td>Tue Aug 04, 2020 23:57 UTC</td>\n",
       "      <td>Starship Prototype | 150 Meter Hop</td>\n",
       "      <td>StatusActive</td>\n",
       "      <td>NaN</td>\n",
       "      <td>Success</td>\n",
       "    </tr>\n",
       "    <tr>\n",
       "      <th>3</th>\n",
       "      <td>3</td>\n",
       "      <td>3</td>\n",
       "      <td>Roscosmos</td>\n",
       "      <td>Site 200/39, Baikonur Cosmodrome, Kazakhstan</td>\n",
       "      <td>Thu Jul 30, 2020 21:25 UTC</td>\n",
       "      <td>Proton-M/Briz-M | Ekspress-80 &amp; Ekspress-103</td>\n",
       "      <td>StatusActive</td>\n",
       "      <td>65.0</td>\n",
       "      <td>Success</td>\n",
       "    </tr>\n",
       "    <tr>\n",
       "      <th>4</th>\n",
       "      <td>4</td>\n",
       "      <td>4</td>\n",
       "      <td>ULA</td>\n",
       "      <td>SLC-41, Cape Canaveral AFS, Florida, USA</td>\n",
       "      <td>Thu Jul 30, 2020 11:50 UTC</td>\n",
       "      <td>Atlas V 541 | Perseverance</td>\n",
       "      <td>StatusActive</td>\n",
       "      <td>145.0</td>\n",
       "      <td>Success</td>\n",
       "    </tr>\n",
       "  </tbody>\n",
       "</table>\n",
       "</div>"
      ],
      "text/plain": [
       "   Unnamed: 0  Unnamed: 0.1 Company Name  \\\n",
       "0           0             0       SpaceX   \n",
       "1           1             1         CASC   \n",
       "2           2             2       SpaceX   \n",
       "3           3             3    Roscosmos   \n",
       "4           4             4          ULA   \n",
       "\n",
       "                                            Location  \\\n",
       "0         LC-39A, Kennedy Space Center, Florida, USA   \n",
       "1  Site 9401 (SLS-2), Jiuquan Satellite Launch Ce...   \n",
       "2                      Pad A, Boca Chica, Texas, USA   \n",
       "3       Site 200/39, Baikonur Cosmodrome, Kazakhstan   \n",
       "4           SLC-41, Cape Canaveral AFS, Florida, USA   \n",
       "\n",
       "                        Datum                                        Detail  \\\n",
       "0  Fri Aug 07, 2020 05:12 UTC  Falcon 9 Block 5 | Starlink V1 L9 & BlackSky   \n",
       "1  Thu Aug 06, 2020 04:01 UTC           Long March 2D | Gaofen-9 04 & Q-SAT   \n",
       "2  Tue Aug 04, 2020 23:57 UTC            Starship Prototype | 150 Meter Hop   \n",
       "3  Thu Jul 30, 2020 21:25 UTC  Proton-M/Briz-M | Ekspress-80 & Ekspress-103   \n",
       "4  Thu Jul 30, 2020 11:50 UTC                    Atlas V 541 | Perseverance   \n",
       "\n",
       "  Status Rocket  Rocket Status Mission  \n",
       "0  StatusActive   50.0         Success  \n",
       "1  StatusActive  29.75         Success  \n",
       "2  StatusActive     NaN        Success  \n",
       "3  StatusActive   65.0         Success  \n",
       "4  StatusActive  145.0         Success  "
      ]
     },
     "execution_count": 3,
     "metadata": {},
     "output_type": "execute_result"
    }
   ],
   "source": [
    "# Para vermos se o arquivo foi carregado com sucesso executamos\n",
    "df.head() # O método head() por padrão imprime as 5 primeiras linhas do dataset\n",
    "\n",
    "# Experimenta também...\n",
    "#df.head(10)"
   ]
  },
  {
   "cell_type": "code",
   "execution_count": 4,
   "metadata": {},
   "outputs": [
    {
     "data": {
      "text/plain": [
       "(4324, 9)"
      ]
     },
     "execution_count": 4,
     "metadata": {},
     "output_type": "execute_result"
    }
   ],
   "source": [
    "# Como vimos, temos o nosso arquivo lindo e gordinho, agora vamos ver o formato dele\n",
    "# Temos (linhas:4324, colunas: 9)\n",
    "df.shape"
   ]
  },
  {
   "cell_type": "markdown",
   "metadata": {},
   "source": [
    "# <font color='pink'>Entendendo como estão estruturado os Dados e organizá-los</font>"
   ]
  },
  {
   "cell_type": "code",
   "execution_count": 5,
   "metadata": {},
   "outputs": [
    {
     "name": "stdout",
     "output_type": "stream",
     "text": [
      "Unnamed: 0\n",
      "Unnamed: 0.1\n",
      "Company Name\n",
      "Location\n",
      "Datum\n",
      "Detail\n",
      "Status Rocket\n",
      " Rocket\n",
      "Status Mission\n"
     ]
    }
   ],
   "source": [
    "# Como podemos ver, se o nosso df tem colunas repetidas né, podemos selecionar somente as colunas que iremos usar\n",
    "# Vamos visualizar todas as colunas do df\n",
    "for i in df.columns:\n",
    "    print(i)\n",
    "\n",
    "# Experimenta também...\n",
    "#df.columns"
   ]
  },
  {
   "cell_type": "code",
   "execution_count": 6,
   "metadata": {},
   "outputs": [
    {
     "data": {
      "text/html": [
       "<div>\n",
       "<style scoped>\n",
       "    .dataframe tbody tr th:only-of-type {\n",
       "        vertical-align: middle;\n",
       "    }\n",
       "\n",
       "    .dataframe tbody tr th {\n",
       "        vertical-align: top;\n",
       "    }\n",
       "\n",
       "    .dataframe thead th {\n",
       "        text-align: right;\n",
       "    }\n",
       "</style>\n",
       "<table border=\"1\" class=\"dataframe\">\n",
       "  <thead>\n",
       "    <tr style=\"text-align: right;\">\n",
       "      <th></th>\n",
       "      <th>Company Name</th>\n",
       "      <th>Location</th>\n",
       "      <th>Datum</th>\n",
       "      <th>Detail</th>\n",
       "      <th>Status Rocket</th>\n",
       "      <th>Status Mission</th>\n",
       "    </tr>\n",
       "  </thead>\n",
       "  <tbody>\n",
       "    <tr>\n",
       "      <th>0</th>\n",
       "      <td>SpaceX</td>\n",
       "      <td>LC-39A, Kennedy Space Center, Florida, USA</td>\n",
       "      <td>Fri Aug 07, 2020 05:12 UTC</td>\n",
       "      <td>Falcon 9 Block 5 | Starlink V1 L9 &amp; BlackSky</td>\n",
       "      <td>StatusActive</td>\n",
       "      <td>Success</td>\n",
       "    </tr>\n",
       "    <tr>\n",
       "      <th>1</th>\n",
       "      <td>CASC</td>\n",
       "      <td>Site 9401 (SLS-2), Jiuquan Satellite Launch Ce...</td>\n",
       "      <td>Thu Aug 06, 2020 04:01 UTC</td>\n",
       "      <td>Long March 2D | Gaofen-9 04 &amp; Q-SAT</td>\n",
       "      <td>StatusActive</td>\n",
       "      <td>Success</td>\n",
       "    </tr>\n",
       "    <tr>\n",
       "      <th>2</th>\n",
       "      <td>SpaceX</td>\n",
       "      <td>Pad A, Boca Chica, Texas, USA</td>\n",
       "      <td>Tue Aug 04, 2020 23:57 UTC</td>\n",
       "      <td>Starship Prototype | 150 Meter Hop</td>\n",
       "      <td>StatusActive</td>\n",
       "      <td>Success</td>\n",
       "    </tr>\n",
       "    <tr>\n",
       "      <th>3</th>\n",
       "      <td>Roscosmos</td>\n",
       "      <td>Site 200/39, Baikonur Cosmodrome, Kazakhstan</td>\n",
       "      <td>Thu Jul 30, 2020 21:25 UTC</td>\n",
       "      <td>Proton-M/Briz-M | Ekspress-80 &amp; Ekspress-103</td>\n",
       "      <td>StatusActive</td>\n",
       "      <td>Success</td>\n",
       "    </tr>\n",
       "    <tr>\n",
       "      <th>4</th>\n",
       "      <td>ULA</td>\n",
       "      <td>SLC-41, Cape Canaveral AFS, Florida, USA</td>\n",
       "      <td>Thu Jul 30, 2020 11:50 UTC</td>\n",
       "      <td>Atlas V 541 | Perseverance</td>\n",
       "      <td>StatusActive</td>\n",
       "      <td>Success</td>\n",
       "    </tr>\n",
       "  </tbody>\n",
       "</table>\n",
       "</div>"
      ],
      "text/plain": [
       "  Company Name                                           Location  \\\n",
       "0       SpaceX         LC-39A, Kennedy Space Center, Florida, USA   \n",
       "1         CASC  Site 9401 (SLS-2), Jiuquan Satellite Launch Ce...   \n",
       "2       SpaceX                      Pad A, Boca Chica, Texas, USA   \n",
       "3    Roscosmos       Site 200/39, Baikonur Cosmodrome, Kazakhstan   \n",
       "4          ULA           SLC-41, Cape Canaveral AFS, Florida, USA   \n",
       "\n",
       "                        Datum                                        Detail  \\\n",
       "0  Fri Aug 07, 2020 05:12 UTC  Falcon 9 Block 5 | Starlink V1 L9 & BlackSky   \n",
       "1  Thu Aug 06, 2020 04:01 UTC           Long March 2D | Gaofen-9 04 & Q-SAT   \n",
       "2  Tue Aug 04, 2020 23:57 UTC            Starship Prototype | 150 Meter Hop   \n",
       "3  Thu Jul 30, 2020 21:25 UTC  Proton-M/Briz-M | Ekspress-80 & Ekspress-103   \n",
       "4  Thu Jul 30, 2020 11:50 UTC                    Atlas V 541 | Perseverance   \n",
       "\n",
       "  Status Rocket Status Mission  \n",
       "0  StatusActive        Success  \n",
       "1  StatusActive        Success  \n",
       "2  StatusActive        Success  \n",
       "3  StatusActive        Success  \n",
       "4  StatusActive        Success  "
      ]
     },
     "execution_count": 6,
     "metadata": {},
     "output_type": "execute_result"
    }
   ],
   "source": [
    "# Dá pra ver que as colunas Unnamed: 0', 'Unnamed: 0.1 e Rocket não iremos precisar\n",
    "# Selecionando as colunas que iremos usar\n",
    "col_select = ['Company Name', 'Location', 'Datum', 'Detail', 'Status Rocket', 'Status Mission']\n",
    "df = df.filter(items = col_select)\n",
    "\n",
    "# Imprimindo o df com os dados filtrados\n",
    "df.head()\n",
    "\n",
    "# Experimenta também...\n",
    "#df.sample(6)"
   ]
  },
  {
   "cell_type": "code",
   "execution_count": 7,
   "metadata": {},
   "outputs": [
    {
     "data": {
      "text/plain": [
       "Company Name      0\n",
       "Location          0\n",
       "Datum             0\n",
       "Detail            0\n",
       "Status Rocket     0\n",
       "Status Mission    0\n",
       "dtype: int64"
      ]
     },
     "execution_count": 7,
     "metadata": {},
     "output_type": "execute_result"
    }
   ],
   "source": [
    "# Visualisando valores nulos no df\n",
    "df.isnull().sum()"
   ]
  },
  {
   "cell_type": "markdown",
   "metadata": {},
   "source": [
    "# <font color='pink'>Análise Exploratória</font>"
   ]
  },
  {
   "cell_type": "markdown",
   "metadata": {},
   "source": [
    "#### Nossos dados estão em dados nulos e estão organizados como gostaríamos, se tivesse dados nulos tem formas de tratar esses dados sem perder a essencia dos daods\n",
    "\n",
    "#### Agora sim podemos fazer algumas perguntas começando com:\n",
    "## * Desde 1957 quantas Missões foram realizadas, apresentando por status da missão?"
   ]
  },
  {
   "cell_type": "code",
   "execution_count": 8,
   "metadata": {},
   "outputs": [
    {
     "name": "stdout",
     "output_type": "stream",
     "text": [
      "Success\n",
      "Failure\n",
      "Prelaunch Failure\n",
      "Partial Failure\n"
     ]
    }
   ],
   "source": [
    "# Vamos explorar o nosso df, já vemos que temos uma coluna 'Status Mission' que mostra os status das missões\n",
    "# Mas não sabemos quais são os status\n",
    "# Imprimindo todos os status únicos de missões do nosso df\n",
    "for i in df['Status Mission'].unique():\n",
    "    print(i)\n",
    "\n",
    "# Experimenta também...\n",
    "#df['Status Mission'].unique()\n",
    "#df['Status Mission'].nunique()"
   ]
  },
  {
   "cell_type": "code",
   "execution_count": 9,
   "metadata": {},
   "outputs": [
    {
     "data": {
      "text/plain": [
       "Success              3879\n",
       "Failure               339\n",
       "Partial Failure       102\n",
       "Prelaunch Failure       4\n",
       "Name: Status Mission, dtype: int64"
      ]
     },
     "execution_count": 9,
     "metadata": {},
     "output_type": "execute_result"
    }
   ],
   "source": [
    "# Já vimos que temos três tipos de status: 'Success', 'Failure', 'Prelaunch Failure' e 'Partial Failure'\n",
    "# Visualizando a quantidade de missões por status\n",
    "df['Status Mission'].value_counts()\n",
    "\n",
    "# Experimenta também...\n",
    "#print(pd.DataFrame(df['Status Mission'].value_counts()))"
   ]
  },
  {
   "cell_type": "markdown",
   "metadata": {},
   "source": [
    "#### Podemos ver que grande parte das missões realizadas foram bem sucedidas, graças à Deus! Hehehehe\n",
    "#### Mas para deixarmos isso mais interssante que tal já prepararmos esse insight bonitinho para o nosso report?"
   ]
  },
  {
   "cell_type": "code",
   "execution_count": 10,
   "metadata": {},
   "outputs": [],
   "source": [
    "# Vamos chamar a biblioteca seaborn para visualização de dados, possibilitando a criação de gráficos sofisticados\n",
    "import seaborn as sns \n",
    "\n",
    "# E vamos usar seaborn para que toda vez que imprimirmos os gráfico possamos ter as linhas de grades para melhor \n",
    "# entendimento das informações apresentadas.\n",
    "sns.set(style = \"whitegrid\") \n",
    "\n",
    "# E além disso também vamos chamar o conjunto de funções do matplotlib, o pyplot permite criar figuras \n",
    "# e gráficos com rótulos \n",
    "import matplotlib.pyplot as plt \n",
    "\n",
    "# E por último, se quisermos visualizar aqui no jupyter notebook os gráficos que iremos criar \n",
    "# precisaremos desse cara\n",
    "%matplotlib inline "
   ]
  },
  {
   "cell_type": "markdown",
   "metadata": {},
   "source": [
    "#### O processo é simples mbora lá..."
   ]
  },
  {
   "cell_type": "code",
   "execution_count": 11,
   "metadata": {},
   "outputs": [
    {
     "data": {
      "image/png": "[encoded data removed]",
      "text/plain": [
       "<Figure size 752.4x396 with 1 Axes>"
      ]
     },
     "metadata": {
      "needs_background": "light"
     },
     "output_type": "display_data"
    }
   ],
   "source": [
    "# Nesse caso iremos usar um gráfico de categoria, que é o catplot é bem bacana e iremos colocar pimenta por cima\n",
    "# pra ficar ainda mais gostoso.\n",
    "\n",
    "# Definindo os valores para os eixos x e y\n",
    "x = df['Status Mission'].value_counts().index\n",
    "y = df['Status Mission'].value_counts()\n",
    "\n",
    "# Criando o gráfico\n",
    "g = sns.catplot(x = x, y = y, data = df, kind = 'bar', aspect = 1.9, height = 5.5, palette = 'BuPu_r')\n",
    "g.ax.set_title('Total de Missões para o espaço desde 1957', fontdict = {'size':18}, color = 'purple')\n",
    "g.ax.xaxis.set_label_text('Status da Missão', fontdict = {'size':16})\n",
    "g.ax.yaxis.set_label_text('Total de Missões', fontdict = {'size': 16})\n",
    "\n",
    "# Imprimindo a contagem por cima das barras do gráfico\n",
    "for i in g.ax.patches:\n",
    "    g.ax.annotate((int(i.get_height())), (i.get_x()+0.25, i.get_height()+20))"
   ]
  },
  {
   "cell_type": "markdown",
   "metadata": {},
   "source": [
    "#### Vamos a próxima pergunta?\n",
    "## Quais os 10 países/locaias que mais tiveram sucesso nos lançamentos?"
   ]
  },
  {
   "cell_type": "code",
   "execution_count": 12,
   "metadata": {},
   "outputs": [
    {
     "data": {
      "text/html": [
       "<div>\n",
       "<style scoped>\n",
       "    .dataframe tbody tr th:only-of-type {\n",
       "        vertical-align: middle;\n",
       "    }\n",
       "\n",
       "    .dataframe tbody tr th {\n",
       "        vertical-align: top;\n",
       "    }\n",
       "\n",
       "    .dataframe thead th {\n",
       "        text-align: right;\n",
       "    }\n",
       "</style>\n",
       "<table border=\"1\" class=\"dataframe\">\n",
       "  <thead>\n",
       "    <tr style=\"text-align: right;\">\n",
       "      <th></th>\n",
       "      <th>Company Name</th>\n",
       "      <th>Location</th>\n",
       "      <th>Datum</th>\n",
       "      <th>Detail</th>\n",
       "      <th>Status Rocket</th>\n",
       "      <th>Status Mission</th>\n",
       "    </tr>\n",
       "  </thead>\n",
       "  <tbody>\n",
       "    <tr>\n",
       "      <th>104</th>\n",
       "      <td>ExPace</td>\n",
       "      <td>Site 95, Jiuquan Satellite Launch Center, China</td>\n",
       "      <td>Fri Aug 30, 2019 23:41 UTC</td>\n",
       "      <td>Kuaizhou 1A | KX-09 &amp; Others</td>\n",
       "      <td>StatusActive</td>\n",
       "      <td>Success</td>\n",
       "    </tr>\n",
       "    <tr>\n",
       "      <th>2585</th>\n",
       "      <td>Martin Marietta</td>\n",
       "      <td>SLC-40, Cape Canaveral AFS, Florida, USA</td>\n",
       "      <td>Sat Jun 10, 1978 19:08 UTC</td>\n",
       "      <td>Titan III(23)C | OPS-9454 (vortex)</td>\n",
       "      <td>StatusRetired</td>\n",
       "      <td>Success</td>\n",
       "    </tr>\n",
       "    <tr>\n",
       "      <th>3721</th>\n",
       "      <td>RVSN USSR</td>\n",
       "      <td>Site 1/5, Baikonur Cosmodrome, Kazakhstan</td>\n",
       "      <td>Mon Oct 30, 1967 08:12 UTC</td>\n",
       "      <td>Soyuz | Cosmos 188</td>\n",
       "      <td>StatusRetired</td>\n",
       "      <td>Success</td>\n",
       "    </tr>\n",
       "  </tbody>\n",
       "</table>\n",
       "</div>"
      ],
      "text/plain": [
       "         Company Name                                         Location  \\\n",
       "104            ExPace  Site 95, Jiuquan Satellite Launch Center, China   \n",
       "2585  Martin Marietta         SLC-40, Cape Canaveral AFS, Florida, USA   \n",
       "3721        RVSN USSR        Site 1/5, Baikonur Cosmodrome, Kazakhstan   \n",
       "\n",
       "                           Datum                              Detail  \\\n",
       "104   Fri Aug 30, 2019 23:41 UTC        Kuaizhou 1A | KX-09 & Others   \n",
       "2585  Sat Jun 10, 1978 19:08 UTC  Titan III(23)C | OPS-9454 (vortex)   \n",
       "3721  Mon Oct 30, 1967 08:12 UTC                  Soyuz | Cosmos 188   \n",
       "\n",
       "      Status Rocket Status Mission  \n",
       "104    StatusActive        Success  \n",
       "2585  StatusRetired        Success  \n",
       "3721  StatusRetired        Success  "
      ]
     },
     "execution_count": 12,
     "metadata": {},
     "output_type": "execute_result"
    }
   ],
   "source": [
    "# Mbora olhar de novo o nosso dataset?\n",
    "df.sample(3)\n",
    "# Temos a coluna 'Location' mostra o local exato do lançamento e o país boa!"
   ]
  },
  {
   "cell_type": "code",
   "execution_count": 13,
   "metadata": {},
   "outputs": [
    {
     "data": {
      "image/png": "[encoded data removed]",
      "text/plain": [
       "<Figure size 792x360 with 1 Axes>"
      ]
     },
     "metadata": {
      "needs_background": "light"
     },
     "output_type": "display_data"
    }
   ],
   "source": [
    "# vamos listar os 10 país que mais tiveram lançamentos bem sucedidos\n",
    "success = df[df['Status Mission'] == 'Success']\n",
    "success = success.Location.value_counts().head(10)\n",
    "\n",
    "# Plotando o gráfico um pouco parecido com o anterior pra fixar heheh\n",
    "g = sns.catplot(x = success, y = success.index, data = df, kind = 'bar', aspect = 2.2, palette = 'Greens_r')\n",
    "\n",
    "# Título do gráfico e eixos (x, y)\n",
    "g.ax.set_title('Top 10 países com mais sucessos nos lançamentos', fontdict = {'size':18})\n",
    "g.ax.xaxis.set_label_text('Total de Envios', fontdict = {'size':16})\n",
    "g.ax.yaxis.set_label_text('Países', fontdict = {'size':16})\n",
    "plt.show()\n",
    "\n",
    "# E para a minha surpresa (acredito de muita gente também), os EUA não é o país que teve mais sucesso\n",
    "# nos lançamentos, ficando em nono lugar, e sim: Kazakhstan é o que lidera o top 10 dos país que mais \n",
    "# lançaram fogue à lua e o que teve mais sucesso, seguido da Rússia.\n",
    "# Deu até uma ideia agora, que pode servir pra próxima pergunta, quais são os países/locais que foram menos \n",
    "# felizes em seus lançamentos?"
   ]
  },
  {
   "cell_type": "markdown",
   "metadata": {},
   "source": [
    "#### Próxima pergunta...\n",
    "## Quais são os países/locais que foram menos felizes em seus lançamentos?"
   ]
  },
  {
   "cell_type": "code",
   "execution_count": 14,
   "metadata": {},
   "outputs": [
    {
     "data": {
      "image/png": "[encoded data removed]",
      "text/plain": [
       "<Figure size 792x360 with 1 Axes>"
      ]
     },
     "metadata": {
      "needs_background": "light"
     },
     "output_type": "display_data"
    }
   ],
   "source": [
    "# vamos listar os 10 país que mais falharam nos lançamentos\n",
    "failure = df[df['Status Mission'] == 'Failure']\n",
    "failure = failure.Location.value_counts().head(10)\n",
    "\n",
    "# Plotando o gráfico um pouco parecido com o anterior pra fixar heheh\n",
    "g = sns.catplot(x = failure, y = failure.index, data = df, kind = 'bar', aspect = 2.2, palette = 'Reds_r', alpha = 1)\n",
    "\n",
    "# Título do gráfico e eixos (x, y)\n",
    "g.ax.set_title('Top 10 países cujo lançamentos deram errado', fontdict = {'size':18})\n",
    "g.ax.xaxis.set_label_text('Total de Envios', fontdict = {'size':16})\n",
    "g.ax.yaxis.set_label_text('Países', fontdict = {'size':16})\n",
    "plt.show()\n",
    "\n",
    "# Olha só... O Kazakhstan é o que mais lançou foguete e por consequência disso também é o que mais \n",
    "# falhou nos lançamentos, provando que a percistência valeu a pena. Um ponto aqui a destacar é que os EUA\n",
    "# em termos de lançamentos bem sucedidos ficaram em nono lugar, porém também ficaram em 2 segundo lugar\n",
    "# em lançamentos que deram errado, já dá pra termos uma noção que eles ficam na média, e isso é ruim!\n",
    "# Poque a média é o melhor do pior e o pior do melhor..."
   ]
  },
  {
   "cell_type": "markdown",
   "metadata": {},
   "source": [
    "#### Boa! Você aprendeu um pouco mais sobre análise exploratória e criação de gráficos, recomendo que faça isso de novo e de novo até ficar craque, tenta explorar com outros tipos de gráficos do Seaborn link: https://seaborn.pydata.org/ lá você terá outros gráficos tenta explorar mais, o segredo está na prática, então pratique."
   ]
  }
 ],
 "metadata": {
  "kernelspec": {
   "display_name": "Python 3",
   "language": "python",
   "name": "python3"
  },
  "language_info": {
   "codemirror_mode": {
    "name": "ipython",
    "version": 3
   },
   "file_extension": ".py",
   "mimetype": "text/x-python",
   "name": "python",
   "nbconvert_exporter": "python",
   "pygments_lexer": "ipython3",
   "version": "3.7.3"
  }
 },
 "nbformat": 4,
 "nbformat_minor": 4
}
